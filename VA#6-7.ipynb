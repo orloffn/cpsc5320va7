{
 "cells": [
  {
   "cell_type": "code",
   "execution_count": 19,
   "metadata": {},
   "outputs": [],
   "source": [
    "#from pydub import AudioSegment\n",
    "from mutagen.mp3 import MP3\n",
    "import pandas as pd\n",
    "import numpy as np\n",
    "import os"
   ]
  },
  {
   "cell_type": "code",
   "execution_count": 20,
   "metadata": {},
   "outputs": [],
   "source": [
    "# Removes rows that have no mp3 file associated with it\n",
    "# Uses speakerid as index and removes unnecessary columns\n",
    "# file_path: csv file of all of the speakers\n",
    "# returns a cleaned dataframe of speakers information\n",
    "def create_speaker_df(file_path):\n",
    "    speakers = pd.read_csv(file_path, index_col='speakerid')\n",
    "    speakers = speakers[speakers['file_missing?'] == False]\n",
    "    speakers.drop(['file_missing?', 'Unnamed: 9', 'Unnamed: 10', 'Unnamed: 11'], axis=1, inplace=True)\n",
    "    return speakers\n",
    "\n",
    "speakers_df = create_speaker_df('speech-accent-archive/speakers_all.csv')"
   ]
  },
  {
   "cell_type": "code",
   "execution_count": 21,
   "metadata": {},
   "outputs": [],
   "source": [
    "# The path for all mp3 files\n",
    "mp3_list = os.listdir('speech-accent-archive/mp3_recordings/')\n",
    "for i in range(len(mp3_list)):\n",
    "    mp3_list[i] = 'speech-accent-archive/mp3_recordings/' + mp3_list[i]"
   ]
  },
  {
   "cell_type": "code",
   "execution_count": 22,
   "metadata": {},
   "outputs": [],
   "source": [
    "# Create a temp df to hold the filename and associated time length\n",
    "# read all of the file.mp3 lengths and store into df\n",
    "temp_df = pd.DataFrame(columns=['filename', 'audio_length'])\n",
    "for i in mp3_list:\n",
    "    fold1, fold2, file = i.split('/', 2)\n",
    "    file = file.replace('.mp3', '')\n",
    "    audio = MP3(i)\n",
    "    aud_len = audio.info.length\n",
    "    temp_df = temp_df.append({'filename': file, 'audio_length': aud_len}, ignore_index=True)"
   ]
  },
  {
   "cell_type": "code",
   "execution_count": 23,
   "metadata": {},
   "outputs": [],
   "source": [
    "speakers_df = pd.merge(speakers_df, temp_df, on=['filename'])"
   ]
  },
  {
   "cell_type": "code",
   "execution_count": 24,
   "metadata": {},
   "outputs": [
    {
     "data": {
      "text/plain": [
       "age                0\n",
       "age_onset          0\n",
       "birthplace         0\n",
       "filename           0\n",
       "native_language    0\n",
       "sex                0\n",
       "country            0\n",
       "audio_length       0\n",
       "dtype: int64"
      ]
     },
     "execution_count": 24,
     "metadata": {},
     "output_type": "execute_result"
    }
   ],
   "source": [
    "# drop the rows that contain NaN\n",
    "speakers_df.dropna(axis=0, inplace=True)\n",
    "speakers_df.isna().sum()"
   ]
  },
  {
   "cell_type": "code",
   "execution_count": 27,
   "metadata": {},
   "outputs": [
    {
     "data": {
      "text/plain": [
       "16.0      3\n",
       "17.0      9\n",
       "18.0     36\n",
       "19.0     83\n",
       "20.0    110\n",
       "21.0    164\n",
       "22.0    178\n",
       "23.0    177\n",
       "24.0    154\n",
       "25.0    129\n",
       "26.0    139\n",
       "27.0    116\n",
       "28.0    105\n",
       "29.0     94\n",
       "30.0     71\n",
       "Name: rounded_length, dtype: int64"
      ]
     },
     "execution_count": 27,
     "metadata": {},
     "output_type": "execute_result"
    }
   ],
   "source": [
    "speakers_df['rounded_length'] = speakers_df.audio_length.round(decimals=0)\n",
    "speakers_df.rounded_length.value_counts().sort_index().head(15)"
   ]
  },
  {
   "cell_type": "code",
   "execution_count": 14,
   "metadata": {},
   "outputs": [],
   "source": [
    "len_20s_df = speakers_df[speakers_df['rounded_length'] == 20.0]\n",
    "len_21s_df = speakers_df[speakers_df['rounded_length'] == 21.0]\n",
    "len_22s_df = speakers_df[speakers_df['rounded_length'] == 22.0]\n",
    "len_23s_df = speakers_df[speakers_df['rounded_length'] == 23.0]\n",
    "len_24s_df = speakers_df[speakers_df['rounded_length'] == 24.0]\n",
    "len_25s_df = speakers_df[speakers_df['rounded_length'] == 25.0]\n",
    "len_26s_df = speakers_df[speakers_df['rounded_length'] == 26.0]\n",
    "len_27s_df = speakers_df[speakers_df['rounded_length'] == 27.0]\n",
    "len_28s_df = speakers_df[speakers_df['rounded_length'] == 28.0]"
   ]
  },
  {
   "cell_type": "code",
   "execution_count": null,
   "metadata": {},
   "outputs": [],
   "source": [
    "english_speakers_df = speakers_df[speakers_df['native_language'].str.contains('english')]\n",
    "english_speakers_df.country.value_counts()"
   ]
  },
  {
   "cell_type": "code",
   "execution_count": null,
   "metadata": {},
   "outputs": [],
   "source": []
  }
 ],
 "metadata": {
  "kernelspec": {
   "display_name": "Python 3",
   "language": "python",
   "name": "python3"
  },
  "language_info": {
   "codemirror_mode": {
    "name": "ipython",
    "version": 3
   },
   "file_extension": ".py",
   "mimetype": "text/x-python",
   "name": "python",
   "nbconvert_exporter": "python",
   "pygments_lexer": "ipython3",
   "version": "3.7.1"
  }
 },
 "nbformat": 4,
 "nbformat_minor": 2
}
