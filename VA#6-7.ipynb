{
 "cells": [
  {
   "cell_type": "code",
   "execution_count": null,
   "metadata": {},
   "outputs": [],
   "source": [
    "from pydub import AudioSegment\n",
    "import pandas as pd\n",
    "import os"
   ]
  },
  {
   "cell_type": "code",
   "execution_count": null,
   "metadata": {},
   "outputs": [],
   "source": [
    "# Removes rows that have no mp3 file associated with it\n",
    "# Uses speakerid as index and removes unnecessary columns\n",
    "# file_path: csv file of all of the speakers\n",
    "# returns a cleaned dataframe of speakers information\n",
    "def create_speaker_df(file_path):\n",
    "    speakers = pd.read_csv(file_path, index_col='speakerid')\n",
    "    speakers = speakers[speakers['file_missing?'] == False]\n",
    "    speakers.drop(['file_missing?', 'Unnamed: 9', 'Unnamed: 10', 'Unnamed: 11'], axis=1, inplace=True)\n",
    "    return speakers\n",
    "\n",
    "speakers_df = create_speaker_df('speech-accent-archive/speakers_all.csv')"
   ]
  },
  {
   "cell_type": "code",
   "execution_count": null,
   "metadata": {},
   "outputs": [],
   "source": [
    "# Changes mp3 files into wave files\n",
    "# mp3_path: folder where all of the mp3 recordings are contained\n",
    "# wav_path: folder where all of the wav files should go\n",
    "#def create_wav(mp3_path, wav_path):\n",
    "#    wav_f = []\n",
    "#    mp3_list = os.listdir(mp3_path)\n",
    "#    for f in mp3_list:\n",
    "#        src = wav_path + f.replace('mp3', 'wav')\n",
    "#        dst = open(wav_path, 'w+')\n",
    "#        sound = AudioSegment.from_mp3(f)\n",
    "#        sound.export(dst, format='wav')\n",
    "\n",
    "#recordings = create_wav('speech-accent-archive/mp3_recordings/', 'speech-accent-archive/wav_recordings/')"
   ]
  },
  {
   "cell_type": "code",
   "execution_count": null,
   "metadata": {},
   "outputs": [],
   "source": [
    "# Read files"
   ]
  }
 ],
 "metadata": {
  "kernelspec": {
   "display_name": "Python 3",
   "language": "python",
   "name": "python3"
  },
  "language_info": {
   "codemirror_mode": {
    "name": "ipython",
    "version": 3
   },
   "file_extension": ".py",
   "mimetype": "text/x-python",
   "name": "python",
   "nbconvert_exporter": "python",
   "pygments_lexer": "ipython3",
   "version": "3.7.1"
  }
 },
 "nbformat": 4,
 "nbformat_minor": 2
}
