{
 "cells": [
  {
   "cell_type": "code",
   "execution_count": 1,
   "metadata": {},
   "outputs": [],
   "source": [
    "#from pydub import AudioSegment\n",
    "from mutagen.mp3 import MP3\n",
    "import pandas as pd\n",
    "import numpy as np\n",
    "import os"
   ]
  },
  {
   "cell_type": "code",
   "execution_count": 2,
   "metadata": {},
   "outputs": [],
   "source": [
    "# Removes rows that have no mp3 file associated with it\n",
    "# Uses speakerid as index and removes unnecessary columns\n",
    "# file_path: csv file of all of the speakers\n",
    "# returns a cleaned dataframe of speakers information\n",
    "def create_speaker_df(file_path):\n",
    "    speakers = pd.read_csv(file_path, index_col='speakerid')\n",
    "    speakers = speakers[speakers['file_missing?'] == False]\n",
    "    speakers.drop(['file_missing?', 'Unnamed: 9', 'Unnamed: 10', 'Unnamed: 11'], axis=1, inplace=True)\n",
    "    return speakers\n",
    "\n",
    "speakers_df = create_speaker_df('speech-accent-archive/speakers_all.csv')"
   ]
  },
  {
   "cell_type": "code",
   "execution_count": 3,
   "metadata": {},
   "outputs": [],
   "source": [
    "# The path for all mp3 files\n",
    "mp3_list = os.listdir('speech-accent-archive/mp3_recordings/')\n",
    "for i in range(len(mp3_list)):\n",
    "    mp3_list[i] = 'speech-accent-archive/mp3_recordings/' + mp3_list[i]"
   ]
  },
  {
   "cell_type": "code",
   "execution_count": 4,
   "metadata": {},
   "outputs": [],
   "source": [
    "# Create a temp df to hold the filename and associated time length\n",
    "# read all of the file.mp3 lengths and store into df\n",
    "temp_df = pd.DataFrame(columns=['filename', 'audio_length'])\n",
    "for i in mp3_list:\n",
    "    fold1, fold2, file = i.split('/', 2)\n",
    "    file = file.replace('.mp3', '')\n",
    "    audio = MP3(i)\n",
    "    aud_len = audio.info.length\n",
    "    temp_df = temp_df.append({'filename': file, 'audio_length': aud_len}, ignore_index=True)"
   ]
  },
  {
   "cell_type": "code",
   "execution_count": 5,
   "metadata": {},
   "outputs": [],
   "source": [
    "speakers_df = pd.merge(speakers_df, temp_df, on=['filename'])"
   ]
  },
  {
   "cell_type": "code",
   "execution_count": 6,
   "metadata": {},
   "outputs": [
    {
     "data": {
      "text/plain": [
       "age                0\n",
       "age_onset          0\n",
       "birthplace         0\n",
       "filename           0\n",
       "native_language    0\n",
       "sex                0\n",
       "country            0\n",
       "audio_length       0\n",
       "dtype: int64"
      ]
     },
     "execution_count": 6,
     "metadata": {},
     "output_type": "execute_result"
    }
   ],
   "source": [
    "# drop the rows that contain NaN\n",
    "speakers_df.dropna(axis=0, inplace=True)\n",
    "speakers_df.isna().sum()"
   ]
  },
  {
   "cell_type": "code",
   "execution_count": 7,
   "metadata": {},
   "outputs": [
    {
     "data": {
      "text/plain": [
       "16.0      3\n",
       "17.0      9\n",
       "18.0     36\n",
       "19.0     83\n",
       "20.0    110\n",
       "21.0    164\n",
       "22.0    178\n",
       "23.0    177\n",
       "24.0    154\n",
       "25.0    129\n",
       "26.0    139\n",
       "27.0    116\n",
       "28.0    105\n",
       "29.0     94\n",
       "30.0     71\n",
       "Name: rounded_length, dtype: int64"
      ]
     },
     "execution_count": 7,
     "metadata": {},
     "output_type": "execute_result"
    }
   ],
   "source": [
    "speakers_df['rounded_length'] = speakers_df.audio_length.round(decimals=0)\n",
    "speakers_df.rounded_length.value_counts().sort_index().head(15)"
   ]
  },
  {
   "cell_type": "code",
   "execution_count": 9,
   "metadata": {},
   "outputs": [
    {
     "data": {
      "text/html": [
       "<div>\n",
       "<style scoped>\n",
       "    .dataframe tbody tr th:only-of-type {\n",
       "        vertical-align: middle;\n",
       "    }\n",
       "\n",
       "    .dataframe tbody tr th {\n",
       "        vertical-align: top;\n",
       "    }\n",
       "\n",
       "    .dataframe thead th {\n",
       "        text-align: right;\n",
       "    }\n",
       "</style>\n",
       "<table border=\"1\" class=\"dataframe\">\n",
       "  <thead>\n",
       "    <tr style=\"text-align: right;\">\n",
       "      <th></th>\n",
       "      <th>age</th>\n",
       "      <th>age_onset</th>\n",
       "      <th>birthplace</th>\n",
       "      <th>filename</th>\n",
       "      <th>native_language</th>\n",
       "      <th>sex</th>\n",
       "      <th>country</th>\n",
       "      <th>audio_length</th>\n",
       "      <th>rounded_length</th>\n",
       "    </tr>\n",
       "  </thead>\n",
       "  <tbody>\n",
       "    <tr>\n",
       "      <th>0</th>\n",
       "      <td>27.0</td>\n",
       "      <td>9.0</td>\n",
       "      <td>virginia, south africa</td>\n",
       "      <td>afrikaans1</td>\n",
       "      <td>afrikaans</td>\n",
       "      <td>female</td>\n",
       "      <td>south africa</td>\n",
       "      <td>20.772268</td>\n",
       "      <td>21.0</td>\n",
       "    </tr>\n",
       "    <tr>\n",
       "      <th>1</th>\n",
       "      <td>40.0</td>\n",
       "      <td>5.0</td>\n",
       "      <td>pretoria, south africa</td>\n",
       "      <td>afrikaans2</td>\n",
       "      <td>afrikaans</td>\n",
       "      <td>male</td>\n",
       "      <td>south africa</td>\n",
       "      <td>21.961497</td>\n",
       "      <td>22.0</td>\n",
       "    </tr>\n",
       "    <tr>\n",
       "      <th>2</th>\n",
       "      <td>43.0</td>\n",
       "      <td>4.0</td>\n",
       "      <td>pretoria, transvaal, south africa</td>\n",
       "      <td>afrikaans3</td>\n",
       "      <td>afrikaans</td>\n",
       "      <td>male</td>\n",
       "      <td>south africa</td>\n",
       "      <td>26.880000</td>\n",
       "      <td>27.0</td>\n",
       "    </tr>\n",
       "    <tr>\n",
       "      <th>3</th>\n",
       "      <td>26.0</td>\n",
       "      <td>8.0</td>\n",
       "      <td>pretoria, south africa</td>\n",
       "      <td>afrikaans4</td>\n",
       "      <td>afrikaans</td>\n",
       "      <td>male</td>\n",
       "      <td>south africa</td>\n",
       "      <td>23.471179</td>\n",
       "      <td>23.0</td>\n",
       "    </tr>\n",
       "    <tr>\n",
       "      <th>4</th>\n",
       "      <td>19.0</td>\n",
       "      <td>6.0</td>\n",
       "      <td>cape town, south africa</td>\n",
       "      <td>afrikaans5</td>\n",
       "      <td>afrikaans</td>\n",
       "      <td>male</td>\n",
       "      <td>south africa</td>\n",
       "      <td>20.252404</td>\n",
       "      <td>20.0</td>\n",
       "    </tr>\n",
       "  </tbody>\n",
       "</table>\n",
       "</div>"
      ],
      "text/plain": [
       "    age  age_onset                         birthplace    filename  \\\n",
       "0  27.0        9.0             virginia, south africa  afrikaans1   \n",
       "1  40.0        5.0             pretoria, south africa  afrikaans2   \n",
       "2  43.0        4.0  pretoria, transvaal, south africa  afrikaans3   \n",
       "3  26.0        8.0             pretoria, south africa  afrikaans4   \n",
       "4  19.0        6.0            cape town, south africa  afrikaans5   \n",
       "\n",
       "  native_language     sex       country  audio_length  rounded_length  \n",
       "0       afrikaans  female  south africa     20.772268            21.0  \n",
       "1       afrikaans    male  south africa     21.961497            22.0  \n",
       "2       afrikaans    male  south africa     26.880000            27.0  \n",
       "3       afrikaans    male  south africa     23.471179            23.0  \n",
       "4       afrikaans    male  south africa     20.252404            20.0  "
      ]
     },
     "execution_count": 9,
     "metadata": {},
     "output_type": "execute_result"
    }
   ],
   "source": [
    "speakers_df.head()"
   ]
  },
  {
   "cell_type": "code",
   "execution_count": 10,
   "metadata": {},
   "outputs": [
    {
     "data": {
      "text/plain": [
       "176"
      ]
     },
     "execution_count": 10,
     "metadata": {},
     "output_type": "execute_result"
    }
   ],
   "source": [
    "len(speakers_df.country.value_counts())"
   ]
  },
  {
   "cell_type": "code",
   "execution_count": 8,
   "metadata": {},
   "outputs": [
    {
     "data": {
      "text/plain": [
       "usa                     373\n",
       "uk                       65\n",
       "canada                   44\n",
       "australia                32\n",
       "ireland                  11\n",
       "new zealand               8\n",
       "jamaica                   5\n",
       "singapore                 4\n",
       "south africa              4\n",
       "india                     3\n",
       "panama                    3\n",
       "philippines               2\n",
       "malaysia                  2\n",
       "guyana                    2\n",
       "the bahamas               1\n",
       "bolivia                   1\n",
       "italy                     1\n",
       "germany                   1\n",
       "nigeria                   1\n",
       "trinidad                  1\n",
       "papua new guinea          1\n",
       "virginia                  1\n",
       "ghana                     1\n",
       "antigua and barbuda       1\n",
       "pakistan                  1\n",
       "barbados                  1\n",
       "us virgin islands         1\n",
       "liberia                   1\n",
       "isle of man               1\n",
       "united arab emirates      1\n",
       "fiji                      1\n",
       "belize                    1\n",
       "lebanon                   1\n",
       "switzerland               1\n",
       "spain                     1\n",
       "Name: country, dtype: int64"
      ]
     },
     "execution_count": 8,
     "metadata": {},
     "output_type": "execute_result"
    }
   ],
   "source": [
    "english_speakers_df = speakers_df[speakers_df['native_language'].str.contains('english')]\n",
    "english_speakers_df.country.value_counts()"
   ]
  },
  {
   "cell_type": "code",
   "execution_count": null,
   "metadata": {},
   "outputs": [],
   "source": []
  }
 ],
 "metadata": {
  "kernelspec": {
   "display_name": "Python 3",
   "language": "python",
   "name": "python3"
  },
  "language_info": {
   "codemirror_mode": {
    "name": "ipython",
    "version": 3
   },
   "file_extension": ".py",
   "mimetype": "text/x-python",
   "name": "python",
   "nbconvert_exporter": "python",
   "pygments_lexer": "ipython3",
   "version": "3.7.5"
  }
 },
 "nbformat": 4,
 "nbformat_minor": 2
}
